{
  "cells": [
    {
      "cell_type": "markdown",
      "source": "# Final Project Proposal",
      "metadata": {
        "tags": [],
        "cell_id": "00002-b9da9207-fd08-46fa-995c-2c1ff24cc88e",
        "deepnote_cell_type": "text-cell-h1"
      }
    },
    {
      "cell_type": "markdown",
      "source": "AWS Transcribe(https://docs.aws.amazon.com/transcribe/latest/dg/what-is-transcribe.html)",
      "metadata": {
        "tags": [],
        "cell_id": "00005-f2b21561-767d-494a-a257-31ab2de289e0",
        "deepnote_cell_type": "markdown"
      }
    },
    {
      "cell_type": "markdown",
      "source": "## Transcribe",
      "metadata": {
        "tags": [],
        "cell_id": "00004-1cb60e14-2f51-4b9a-8711-387aec900bb9",
        "deepnote_cell_type": "text-cell-h2"
      }
    },
    {
      "cell_type": "markdown",
      "source": "**Utility**: recognize speech in your audio or video and transcribe that speech into text\nRecognize music lyrics\n\n**Input**: FLAC, MP3, MP4, Ogg, WebM, AMR, or WAV file format\n",
      "metadata": {
        "tags": [],
        "cell_id": "00005-14c4d234-34fa-4b15-bb57-af26a5d9bc02",
        "deepnote_cell_type": "markdown"
      }
    },
    {
      "cell_type": "markdown",
      "source": "### Process",
      "metadata": {
        "tags": [],
        "cell_id": "00006-60a12a11-1d29-4117-8443-43b42850a93c",
        "deepnote_cell_type": "text-cell-h3"
      }
    },
    {
      "cell_type": "markdown",
      "source": "- 上传音频文件到aws的bucket里（可以新建）\n- AWS的Transcribe service选中需要lyric的文件进行process\n- output是一个jason文件",
      "metadata": {
        "tags": [],
        "cell_id": "00007-e38d9ca9-1d2b-4c2f-88d6-9d09706a6abb",
        "deepnote_cell_type": "markdown"
      }
    },
    {
      "cell_type": "markdown",
      "source": "Blog - Intro\n\nSourcing\n \n// 英文/中文/available的音质版本\n\tregression - distance by 语种\nSong \t- 收集mp3 run lyrics - \n\t\t- Genre \n\nCoding -",
      "metadata": {
        "tags": [],
        "cell_id": "00006-18032e03-b6a5-49ae-a51d-4987977b186c",
        "deepnote_cell_type": "markdown"
      }
    },
    {
      "cell_type": "markdown",
      "source": "### Analysis",
      "metadata": {
        "tags": [],
        "cell_id": "00008-b0283998-6e31-49a7-a856-32ee55d481e0",
        "deepnote_cell_type": "text-cell-h3"
      }
    },
    {
      "cell_type": "markdown",
      "source": "- 分析不同语种的accuracy\n    - `Transcribe`可以选择specify语言或者auto-detect语种\n    - 我们也可以分析specify或者不specify的区别\n- 分析同语种下导致accuracy降低或者变高的因素\n    - music genre(country music, rap ... )\n    - 背景音乐",
      "metadata": {
        "tags": [],
        "cell_id": "00011-1421a600-9262-4822-88a5-7cee61723ab9",
        "deepnote_cell_type": "markdown"
      }
    },
    {
      "cell_type": "markdown",
      "source": "sourcing - 10 pc / ppl & run specify and unspecify 5 genre in total?\n",
      "metadata": {
        "tags": [],
        "cell_id": "00008-0d3ccac4-9b69-4f12-a48e-f76531c1c5a8",
        "deepnote_cell_type": "markdown"
      }
    },
    {
      "cell_type": "markdown",
      "source": "### Grading Basis",
      "metadata": {
        "tags": [],
        "cell_id": "00009-8d2820f7-9293-45dc-881f-428505d15df3",
        "deepnote_cell_type": "text-cell-h3"
      }
    },
    {
      "cell_type": "markdown",
      "source": "**Blog**\n\nA blog post, created using a Jupyter notebook, hosted on AWS, and served to readers as a link to a webpage. For instance, similar in formatting (but not content) to posts like [this](https://aws.amazon.com/blogs/machine-learning/automatically-detecting-personal-protective-equipment-on-persons-in-images-using-amazon-rekognition/) on the AWS machine learning blog. \n\n> A comprehensive definition of the problem in a data science context. Appropriate citations, links to background reading, graphics, and clear hypotheses. An interesting and smoothly flowing narrative. Clear conclusions based on the evidence demonstrated.\n\n`2 person`\n\n---\n---\n\n**Data**\n\nCollect data that you have generated (pictures, text, etc. as appropriate to the model you are working with) into S3, prep and transform it to further the analysis you are presenting. For instance, create buckets for the original data and transformed data. Create dataframes with each new object a row and the columns various features of the data.\n\n> Explains the details of data collection and how you managed your data on AWS, including any preparations and transformations. A sufficient amount of data and relevant data for the problem you set out, both in terms of input data to the model and output data from the model.\n\n`1 person`\n\n---\n---\n\n**Repo**\n\nA Github repo containing all of the code and documentation needed for anyone interested in reproducing or modifying your project to do so. For instance, similar in the Readme (but not repo content) to repos like [this](https://github.com/aws-samples/amazon-rekognition-custom-ppe-detection-with-custom-labels) on the AWS samples.\n\n> Explore topics such as Data Statistics, Correlations, and Data Issues. As much as possible, quantify and visualize the effect you are trying to demonstrate using tools from regression analysis and probability, as well as metrics introduced by your group.\n\n`2 person`\n\n---\n---\n\n**Architecture**\n\nAn architecture diagram, drawn using a tool like draw.io, and explained in your blog post.\n\n> Make your blog available as a webpage, present a tidy Github repository with a similar level of professionalism as is found in the AWS Samples. Detail how others can use what you have done, for instance to make their own investigation. Even better, test it on friends and family and update based on their feedback. Present a schematic of your architecture using a program like draw.io or similar. Demonstrate non-trivial and compelling use of multiple AWS services.\n\n`draw a flow chart after everything's finished`\n\n---\n---",
      "metadata": {
        "tags": [],
        "cell_id": "00009-efcff000-36e0-4e06-ac68-a99b428a2d52",
        "deepnote_cell_type": "markdown"
      }
    },
    {
      "cell_type": "markdown",
      "source": "### Time",
      "metadata": {
        "tags": [],
        "cell_id": "00012-d029cd77-5a60-43bb-855e-3c929a750460",
        "deepnote_cell_type": "text-cell-h3"
      }
    },
    {
      "cell_type": "markdown",
      "source": "4.14 - 4.19 code + analysis\n\n            blog-intro(before 4.17)\n                      (add more when there are results from coding)\n\n**4.23 noon ddl**",
      "metadata": {
        "tags": [],
        "cell_id": "00012-387b5216-5a54-4b08-af53-eaecc2a1b6ff",
        "deepnote_cell_type": "markdown"
      }
    },
    {
      "cell_type": "markdown",
      "source": "<a style='text-decoration:none;line-height:16px;display:flex;color:#5B5B62;padding:10px;justify-content:end;' href='https://deepnote.com?utm_source=created-in-deepnote-cell&projectId=34182c1e-ced2-433c-9676-54ec654bbd88' target=\"_blank\">\n<img alt='Created in deepnote.com' style='display:inline;max-height:16px;margin:0px;margin-right:7.5px;' src='data:image/svg+xml;base64,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' > </img>\nCreated in <span style='font-weight:600;margin-left:4px;'>Deepnote</span></a>",
      "metadata": {
        "tags": [],
        "created_in_deepnote_cell": true,
        "deepnote_cell_type": "markdown"
      }
    }
  ],
  "nbformat": 4,
  "nbformat_minor": 2,
  "metadata": {
    "orig_nbformat": 2,
    "deepnote_notebook_id": "c2339aec-8e83-4817-91ae-97a4ad78cac5",
    "deepnote": {},
    "deepnote_execution_queue": []
  }
}