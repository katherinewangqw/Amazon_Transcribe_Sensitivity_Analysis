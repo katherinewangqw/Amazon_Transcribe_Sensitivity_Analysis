{
  "cells": [
    {
      "cell_type": "markdown",
      "source": "# Download mp3 files",
      "metadata": {
        "cell_id": "00000-4098b6f2-ac96-4fa8-83d6-15b01722bfa3",
        "deepnote_cell_type": "markdown"
      }
    },
    {
      "cell_type": "markdown",
      "source": "The sections below allow us to provide a link to download mp3 files after specifying the singer.\n\nThe reason why we did not choose `requests.get()` to automatically download the audio files is because the access is often denied. **if can be fixed : )**",
      "metadata": {
        "cell_id": "00001-4e0992f8-3422-4a87-ba1b-be78c61c87a3",
        "deepnote_cell_type": "markdown"
      }
    },
    {
      "cell_type": "code",
      "metadata": {
        "cell_id": "00002-b9fdf1a2-0a6f-4347-9b88-3124d35de98d",
        "deepnote_to_be_reexecuted": false,
        "source_hash": "4e9f67ee",
        "execution_millis": 465,
        "execution_start": 1618412620977,
        "deepnote_cell_type": "code"
      },
      "source": "# source:\n# https://blackstarxing.github.io/2020-12-12-download-songs-by-python.html\n\nfrom urllib import request\nfrom bs4 import BeautifulSoup\nimport re\nimport requests\nimport time\nimport getpass\nimport os\nimport time",
      "execution_count": null,
      "outputs": []
    },
    {
      "cell_type": "markdown",
      "source": "We are going to extract the link from a popular chinese music platform called `NetEase Cloud Music`.",
      "metadata": {
        "cell_id": "00003-c065fa36-cb39-49e4-80aa-4157cf33be76",
        "deepnote_cell_type": "markdown"
      }
    },
    {
      "cell_type": "code",
      "metadata": {
        "cell_id": "00004-bcf4769f-bd8d-4530-9ee9-8d9ca86846e9",
        "deepnote_to_be_reexecuted": false,
        "source_hash": "c8a955d4",
        "execution_millis": 100,
        "execution_start": 1618412621443,
        "deepnote_cell_type": "code"
      },
      "source": "# user name\nuser_name = getpass.getuser()\n\n# A class that help us extract url\nclass Music(object):\n    def __init__(self, baseurl, path):\n        # specify user agent\n        head = {\n            \"user-agent\": \"Mozilla/5.0 (Macintosh; Intel Mac OS X 10_15_2)\"\n            \"AppleWebKit/537.36 (KHTML, like Gecko) Chrome/89.0.4389.114 Safari/537.36\"\n        }\n        # if you are using Chrome\n        # you can find your user agent by typing\n        # chrome://version/\n        # into your browser\n        baseurl = baseurl.replace(\"#/\", \"\")\n        self.baseurl = baseurl\n        self.headers = head\n        self.path = path\n\n    def main(self):\n        html = self.askurl()\n        bs4 = self.analysis(html)\n        id = self.matching(bs4)\n        self.save(id)\n\n    def askurl(self):\n        req = request.Request(url=self.baseurl, headers=self.headers)\n        response = request.urlopen(req)\n        html = response.read().decode(\"utf-8\")\n        return html\n\n    def analysis(self, html):\n        soup = BeautifulSoup(html, \"html.parser\")\n        bs4 = soup.find_all(\"li\")\n        bs4 = str(bs4)\n        return bs4\n\n    def matching(self, bs4):\n        rule = re.compile(r'href=\"/song\\?id=(\\d*?)\"', re.S)\n        id = re.findall(rule, bs4)\n        return id\n    \n    def extract(self, id_num):\n        \"\"\"id_num is a number,\n            it has to be converted\n            into string for usage\"\"\"\n        url = \"http://music.163.com/song?id=\" + str(id_num)\n        req = request.Request(url=url, headers=self.headers)\n        response = request.urlopen(req)\n        html = response.read().decode(\"utf-8\")\n        soup = BeautifulSoup(html, \"html.parser\")\n        bs4 = soup.find_all(\"title\")\n        bs4 = str(bs4)\n        rule = re.compile(\n            r'<title>(.*?) - (.*?) - 单曲 - 网易云音乐</title>', re.S)\n        name = re.findall(rule, bs4)\n        name = name[0]\n        songname = name[0].replace(r\"/\", \"_\")\n        singername = name[1].replace(r\"/\", \"_\")\n        print(\"Accessing：\" + songname + \" - \" + singername + \"……\")\n        saveurl = \"http://music.163.com/song/media/outer/url?id=\" + str(id_num)\n        print(\"Please click on the following link: \\n \" + saveurl)\n    \n    def save(self, id):  \n        if len(id) > 5:\n            for i in range(5):\n                self.extract(id[i])\n        else:\n            for i in range(len(id)):\n                self.extract(id[i])\n        return",
      "execution_count": null,
      "outputs": []
    },
    {
      "cell_type": "code",
      "metadata": {
        "tags": [],
        "cell_id": "00006-ba80e963-73ac-460c-96c3-ce312a0ae2ef",
        "deepnote_to_be_reexecuted": false,
        "source_hash": "5e6236d5",
        "execution_millis": 1086,
        "output_cleared": false,
        "execution_start": 1618412621561,
        "deepnote_cell_type": "code"
      },
      "source": "if __name__ == \"__main__\":\n    try:\n        artistid = getArtistId()\n        artisturl = \"http://music.163.com/#/artist?id=\" + str(artistid)  # download url\n    except:\n        print('Wrong input! Try an integer from 1 to 5.')\n    # path = \"/Users/\" + user_name + \"/Downloads/music/\"  # Save the path for downloading\n\n    # # if the file under 'path' is not found\n    # # then create the file\n    # isExists=os.path.exists(path)\n    \n    # if not isExists:\n    #     os.makedirs(path) \n\n    artist_demo = Music(artisturl, path)\n    artist_demo.main()\n    print(\"\\n Successful extraction.\")",
      "execution_count": null,
      "outputs": [
        {
          "name": "stdout",
          "text": "Wrong input! Try an integer from 1 to 5.\n",
          "output_type": "stream"
        },
        {
          "output_type": "error",
          "ename": "NameError",
          "evalue": "name 'artisturl' is not defined",
          "traceback": [
            "\u001b[0;31m---------------------------------------------------------------------------\u001b[0m",
            "\u001b[0;31mNameError\u001b[0m                                 Traceback (most recent call last)",
            "\u001b[0;32m<ipython-input-3-7985b31394c8>\u001b[0m in \u001b[0;36m<module>\u001b[0;34m\u001b[0m\n\u001b[1;32m     14\u001b[0m     \u001b[0;31m#     os.makedirs(path)\u001b[0m\u001b[0;34m\u001b[0m\u001b[0;34m\u001b[0m\u001b[0;34m\u001b[0m\u001b[0m\n\u001b[1;32m     15\u001b[0m \u001b[0;34m\u001b[0m\u001b[0m\n\u001b[0;32m---> 16\u001b[0;31m     \u001b[0martist_demo\u001b[0m \u001b[0;34m=\u001b[0m \u001b[0mMusic\u001b[0m\u001b[0;34m(\u001b[0m\u001b[0martisturl\u001b[0m\u001b[0;34m,\u001b[0m \u001b[0mpath\u001b[0m\u001b[0;34m)\u001b[0m\u001b[0;34m\u001b[0m\u001b[0;34m\u001b[0m\u001b[0m\n\u001b[0m\u001b[1;32m     17\u001b[0m     \u001b[0martist_demo\u001b[0m\u001b[0;34m.\u001b[0m\u001b[0mmain\u001b[0m\u001b[0;34m(\u001b[0m\u001b[0;34m)\u001b[0m\u001b[0;34m\u001b[0m\u001b[0;34m\u001b[0m\u001b[0m\n\u001b[1;32m     18\u001b[0m     \u001b[0mprint\u001b[0m\u001b[0;34m(\u001b[0m\u001b[0;34m\"\\n Successful extraction.\"\u001b[0m\u001b[0;34m)\u001b[0m\u001b[0;34m\u001b[0m\u001b[0;34m\u001b[0m\u001b[0m\n",
            "\u001b[0;31mNameError\u001b[0m: name 'artisturl' is not defined"
          ]
        }
      ]
    },
    {
      "cell_type": "code",
      "metadata": {
        "tags": [],
        "cell_id": "00007-b2c1f95f-e5fc-4239-8474-f976be194515",
        "deepnote_to_be_reexecuted": true,
        "source_hash": "5e4b4901",
        "execution_millis": 3793,
        "deepnote_cell_type": "code"
      },
      "source": "try:\n    content = input('Please specify singer\\'s name: ')\n    searchUrl = \"http://music.163.com/api/search/get/web?csrf_token=hlpretag=&hlposttag=&s=\" + \\\n    content + \"&type=100&offset=0&total=true&limit=20\"\n    result = requests.get(url=searchUrl).json()\nexcept:\n    print('Please try again! (eg. Adele)')",
      "execution_count": null,
      "outputs": []
    },
    {
      "cell_type": "code",
      "metadata": {
        "tags": [],
        "cell_id": "00008-4ac627d6-493c-4429-882d-1edd911df576",
        "deepnote_to_be_reexecuted": true,
        "source_hash": "ab1cbcd2",
        "execution_millis": 13,
        "deepnote_cell_type": "code"
      },
      "source": "artistList = result['result']['artists'][:5]",
      "execution_count": null,
      "outputs": [
        {
          "output_type": "error",
          "ename": "TypeError",
          "evalue": "string indices must be integers",
          "traceback": [
            "\u001b[0;31m---------------------------------------------------------------------------\u001b[0m",
            "\u001b[0;31mTypeError\u001b[0m                                 Traceback (most recent call last)",
            "\u001b[0;32m<ipython-input-40-77b449bae88e>\u001b[0m in \u001b[0;36m<module>\u001b[0;34m\u001b[0m\n\u001b[0;32m----> 1\u001b[0;31m \u001b[0martistList\u001b[0m \u001b[0;34m=\u001b[0m \u001b[0mresult\u001b[0m\u001b[0;34m[\u001b[0m\u001b[0;34m'result'\u001b[0m\u001b[0;34m]\u001b[0m\u001b[0;34m[\u001b[0m\u001b[0;34m'artists'\u001b[0m\u001b[0;34m]\u001b[0m\u001b[0;34m[\u001b[0m\u001b[0;34m:\u001b[0m\u001b[0;36m5\u001b[0m\u001b[0;34m]\u001b[0m\u001b[0;34m\u001b[0m\u001b[0;34m\u001b[0m\u001b[0m\n\u001b[0m",
            "\u001b[0;31mTypeError\u001b[0m: string indices must be integers"
          ]
        }
      ]
    },
    {
      "cell_type": "code",
      "metadata": {
        "tags": [],
        "cell_id": "00008-e1430805-315b-49ab-a769-cb42bb4a5e9b",
        "deepnote_to_be_reexecuted": true,
        "source_hash": "8dd0b765",
        "deepnote_cell_type": "code"
      },
      "source": "# enumerate() 函数用于将一个可遍历的数据对象(如列表、元组或字符串)组合为一个索引序列，同时列出数据和数据下标\nfor i,artist in enumerate(artistList):\n    number = i + 1\n    name = artist['name']\n    if 'transNames' in artist:\n        name = name + '(' + artist['transNames'][0] + ')'\n    print(\"[\" + str(number) + \"]: \" + name)",
      "execution_count": null,
      "outputs": []
    },
    {
      "cell_type": "code",
      "metadata": {
        "tags": [],
        "cell_id": "00008-e3712c41-a57a-411e-91fc-0b3476cd9361",
        "deepnote_to_be_reexecuted": true,
        "source_hash": "6f10217",
        "deepnote_cell_type": "code"
      },
      "source": "artistNo = int(input('Please enter the number you choose: '))\nreturn artistList[artistNo-1]['id']",
      "execution_count": null,
      "outputs": []
    },
    {
      "cell_type": "markdown",
      "source": "# Lyric\n",
      "metadata": {
        "cell_id": "00006-96cf1d22-020e-425c-8966-9d7a67d55832",
        "deepnote_cell_type": "markdown"
      }
    },
    {
      "cell_type": "code",
      "metadata": {
        "cell_id": "00007-829685a5-af7b-4eaf-b002-77d10bea4eda",
        "deepnote_to_be_reexecuted": true,
        "source_hash": "dab2021e",
        "execution_millis": 5157,
        "deepnote_cell_type": "code"
      },
      "source": "!sudo apt-get update\n!sudo apt-get install -y jq",
      "execution_count": null,
      "outputs": [
        {
          "name": "stdout",
          "text": "Hit:1 http://security.debian.org/debian-security buster/updates InRelease\nHit:2 http://deb.debian.org/debian buster InRelease\nHit:3 http://deb.debian.org/debian buster-updates InRelease\n\n\n\n\njq is already the newest version (1.5+dfsg-2+b1).\n0 upgraded, 0 newly installed, 0 to remove and 19 not upgraded.\n",
          "output_type": "stream"
        }
      ]
    },
    {
      "cell_type": "markdown",
      "source": "The above code did not work for me, I use `brew` instead to install apt-get on a MacOS system.\nIf you want to know how to insall `Homebrew` on your computer, you can visit the link below:\n\n    https://docs.brew.sh/Installation\n\nor:\n\n    https://www.digitalocean.com/community/tutorials/how-to-install-and-use-homebrew-on-macos",
      "metadata": {
        "cell_id": "00008-549e157f-bce0-4140-bde5-32cb4bb3037d",
        "deepnote_cell_type": "markdown"
      }
    },
    {
      "cell_type": "code",
      "metadata": {
        "cell_id": "00010-16441153-20ca-41de-a09e-ad3a257da81f",
        "deepnote_to_be_reexecuted": true,
        "source_hash": "78d4230c",
        "execution_millis": 2545,
        "deepnote_cell_type": "code"
      },
      "source": "artist_name = input(\"Enter the artist's name: \").replace(' ', '%20')",
      "execution_count": null,
      "outputs": []
    },
    {
      "cell_type": "markdown",
      "source": "**Query Parameters:**\n\n1. query\n    * artist\n    * primarytype: Single\n    * country: US\n2. fmt = json\n3. limit = 10\n\nFrom the MusicBrainz database, retrieve 10 entries that satisfy the given parameters(artist, primarytype, country) in json format.",
      "metadata": {
        "cell_id": "00011-cd84b160-ac19-4442-8180-2b9ccaf67628",
        "deepnote_cell_type": "markdown"
      }
    },
    {
      "cell_type": "code",
      "metadata": {
        "cell_id": "00012-d980d09b-1033-4971-9e3b-ca5c526a656e",
        "deepnote_to_be_reexecuted": true,
        "source_hash": "f48da552",
        "deepnote_cell_type": "code"
      },
      "source": "!curl --request GET -o tracks_raw.json \"https://musicbrainz.org/ws/2/recording/?query=artist:'\"'$artist_name'\"'%20AND%20primarytype:Single%20AND%20country:US&fmt=json&limit=10\"\n!jq < tracks_raw.json",
      "execution_count": null,
      "outputs": [
        {
          "name": "stdout",
          "output_type": "stream",
          "text": "  % Total    % Received % Xferd  Average Speed   Time    Time     Time  Current\n                                 Dload  Upload   Total   Spent    Left  Speed\n100 25952  100 25952    0     0  22665      0  0:00:01  0:00:01 --:--:-- 22665\nzsh:1: command not found: jq\n"
        }
      ]
    },
    {
      "cell_type": "code",
      "metadata": {
        "cell_id": "00013-6f8ab6c6-95a8-4005-b76e-5c694563e0e7",
        "deepnote_to_be_reexecuted": true,
        "source_hash": "49efc8a9",
        "deepnote_cell_type": "code"
      },
      "source": "!jq '.recordings' < tracks_raw.json >tracks_rec.json\n!jq '.[]|.title'< tracks_rec.json > tracks.json",
      "execution_count": null,
      "outputs": []
    },
    {
      "cell_type": "code",
      "metadata": {
        "cell_id": "00014-2a349f62-0457-489e-b311-d9486e9db959",
        "deepnote_to_be_reexecuted": true,
        "source_hash": "f53035bb",
        "deepnote_cell_type": "code"
      },
      "source": "tracks_file = open(\"tracks.json\")\ntracks = []\nfor line in tracks_file:\n    tracks.append(line.replace('\"','').replace('\\n',''))\nprint(*tracks, sep = \"\\n\")\nsong = tracks[int(input(\"Enter the song (1-10) that you would like to search the lyrics for: \"))-1].replace(' ','%20')",
      "execution_count": null,
      "outputs": []
    },
    {
      "cell_type": "code",
      "metadata": {
        "cell_id": "00015-c28cf73b-116e-4b80-b6de-ce3e078bc6ff",
        "deepnote_to_be_reexecuted": true,
        "source_hash": "4741aa77",
        "deepnote_cell_type": "code"
      },
      "source": "!curl --request GET \"https://api.lyrics.ovh/v1/$artist_name/$song\"",
      "execution_count": null,
      "outputs": []
    },
    {
      "cell_type": "code",
      "metadata": {
        "cell_id": "00016-ce8fcb46-53a8-454a-a353-d6b993d548f6",
        "deepnote_to_be_reexecuted": true,
        "source_hash": "82b863c5",
        "deepnote_cell_type": "code"
      },
      "source": "!curl --request GET -o lyrics_raw.json \"https://api.lyrics.ovh/v1/$artist_name/$song\"\n!jq '.lyrics' < lyrics_raw.json > lyrics.json\nlyrics = open(\"lyrics.json\").read()",
      "execution_count": null,
      "outputs": []
    },
    {
      "cell_type": "code",
      "metadata": {
        "cell_id": "00017-eba12134-0eff-422d-8ae1-8f726af6b90e",
        "deepnote_to_be_reexecuted": true,
        "source_hash": "279f79f7",
        "deepnote_cell_type": "code"
      },
      "source": "print(*lyrics.replace('\\\\r','').replace('\\\\\\'','\\'').split('\\\\n'), sep = \"\\n\")",
      "execution_count": null,
      "outputs": []
    },
    {
      "cell_type": "markdown",
      "source": "<a style='text-decoration:none;line-height:16px;display:flex;color:#5B5B62;padding:10px;justify-content:end;' href='https://deepnote.com?utm_source=created-in-deepnote-cell&projectId=34182c1e-ced2-433c-9676-54ec654bbd88' target=\"_blank\">\n<img alt='Created in deepnote.com' style='display:inline;max-height:16px;margin:0px;margin-right:7.5px;' src='data:image/svg+xml;base64,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' > </img>\nCreated in <span style='font-weight:600;margin-left:4px;'>Deepnote</span></a>",
      "metadata": {
        "tags": [],
        "created_in_deepnote_cell": true,
        "deepnote_cell_type": "markdown"
      }
    }
  ],
  "nbformat": 4,
  "nbformat_minor": 5,
  "metadata": {
    "kernelspec": {
      "display_name": "Python 3",
      "language": "python",
      "name": "python3"
    },
    "language_info": {
      "codemirror_mode": {
        "name": "ipython",
        "version": 3
      },
      "file_extension": ".py",
      "mimetype": "text/x-python",
      "name": "python",
      "nbconvert_exporter": "python",
      "pygments_lexer": "ipython3",
      "version": "3.8.3"
    },
    "deepnote_notebook_id": "b2e07ecc-4aae-4a50-8d7b-aa543d70cc29",
    "deepnote": {},
    "deepnote_execution_queue": []
  }
}