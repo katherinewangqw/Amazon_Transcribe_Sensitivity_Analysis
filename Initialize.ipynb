{
 "cells": [
  {
   "cell_type": "markdown",
   "id": "informal-layout",
   "metadata": {},
   "source": [
    "# Initialization\n",
    "\n",
    "This notebook outputs configuration files used by Analysis notebook under the same directory"
   ]
  },
  {
   "cell_type": "code",
   "execution_count": 2,
   "id": "unnecessary-afghanistan",
   "metadata": {},
   "outputs": [],
   "source": [
    "!mkdir -p config"
   ]
  },
  {
   "cell_type": "code",
   "execution_count": 4,
   "id": "racial-aruba",
   "metadata": {},
   "outputs": [
    {
     "name": "stdin",
     "output_type": "stream",
     "text": [
      "Please enter the S3 Storage Bucket name:  samplebucket\n"
     ]
    }
   ],
   "source": [
    "bucket_name = input(\"Please enter the S3 Storage Bucket name: \")\n",
    "f = open(\"./config/config.conf\", \"w\")\n",
    "f.write(bucket_name)\n",
    "f.close()"
   ]
  },
  {
   "cell_type": "markdown",
   "id": "essential-desktop",
   "metadata": {},
   "source": [
    "### Data Preparation\n",
    "Compress audio files into different bitrate/sample rate randomly.\n",
    "\n",
    "The following blocks retrieve the audio files from \"./song\" under the same directory, and outputs the compressed files into \"./songs/compressed\""
   ]
  },
  {
   "cell_type": "code",
   "execution_count": null,
   "id": "consecutive-somewhere",
   "metadata": {},
   "outputs": [],
   "source": [
    "# run this block if packages not installed\n",
    "!conda install -y -c conda-forge ffmpeg\n",
    "!pip install pydub\n",
    "!pip install audio_metadata"
   ]
  },
  {
   "cell_type": "code",
   "execution_count": null,
   "id": "collective-water",
   "metadata": {},
   "outputs": [],
   "source": [
    "from pydub import AudioSegment\n",
    "import os\n",
    "import random as rd\n",
    "import audio_metadata\n",
    "\n",
    "bitrate_list = [\"16k\", \"32k\", \"96k\", \"128k\", \"160k\", \"192k\", \"256k\", \"320k\"] \n",
    "samplerate_list = [\"8000\", \"11025\", \"16000\", \"22050\", \"44100\"]\n",
    "supported_format = [\"mp3\", \"flac\"] #add on if needed\n",
    "list_no = [] # list containing auido files that have corrupted metadata\n",
    "decode_err = [] # list containing audio files failed to compress\n",
    "directory = os.fsencode(\"./songs\")\n",
    "for count, file in enumerate(os.listdir(directory)):\n",
    "    filename = os.fsdecode(file)\n",
    "    extension = os.path.splitext(filename)[1].replace('.', '')\n",
    "    if extension in supported_format:\n",
    "        metadata = audio_metadata.load(\"./songs/{}\".format(filename))\n",
    "        try:\n",
    "            title = metadata['tags']['title'][0].replace('/', '&') # Modify this line if not processing songs\n",
    "            artist = metadata['tags']['artist'][0].replace('/', '&') # Modify this line if not processing songs\n",
    "            bitrate = metadata['streaminfo']['bitrate']\n",
    "            samplerate = metadata['streaminfo']['sample_rate']\n",
    "            genre = metadata['tags']['genre'][0]\n",
    "            try:\n",
    "                lyric_test = metadata['tags']['lyrics'][0]['text']\n",
    "            except:\n",
    "                lyric_test = \"null\"\n",
    "        except:\n",
    "            print(\"Error proccessing {}, corrupted metadata\".format(filename))\n",
    "            list_no.append(filename)\n",
    "            continue\n",
    "        try:\n",
    "            AudioSegment.from_file(\"./songs/{}\".format(filename)).export(\n",
    "                \"./songs/compressed/{} - {}.mp3\".format(artist, title),\n",
    "                format = \"mp3\",\n",
    "                bitrate = rd.sample(bitrate_list, 1)[0],\n",
    "                tags = {\"title\": title, \"artist\": artist, \"lyrics\": lyric_test, \"genre\": genre},\n",
    "                parameters = [\"-ar\", rd.sample(samplerate_list, 1)[0]]\n",
    "            )\n",
    "        except:\n",
    "            decode_err.append(filename)\n"
   ]
  }
 ],
 "metadata": {
  "kernelspec": {
   "display_name": "conda_python3",
   "language": "python",
   "name": "conda_python3"
  },
  "language_info": {
   "codemirror_mode": {
    "name": "ipython",
    "version": 3
   },
   "file_extension": ".py",
   "mimetype": "text/x-python",
   "name": "python",
   "nbconvert_exporter": "python",
   "pygments_lexer": "ipython3",
   "version": "3.6.13"
  }
 },
 "nbformat": 4,
 "nbformat_minor": 5
}
